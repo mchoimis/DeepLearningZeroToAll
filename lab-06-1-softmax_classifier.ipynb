{
 "cells": [
  {
   "cell_type": "code",
   "execution_count": 1,
   "metadata": {},
   "outputs": [
    {
     "name": "stderr",
     "output_type": "stream",
     "text": [
      "C:\\Users\\sds\\Anaconda3\\lib\\site-packages\\h5py\\__init__.py:36: FutureWarning: Conversion of the second argument of issubdtype from `float` to `np.floating` is deprecated. In future, it will be treated as `np.float64 == np.dtype(float).type`.\n",
      "  from ._conv import register_converters as _register_converters\n"
     ]
    },
    {
     "name": "stdout",
     "output_type": "stream",
     "text": [
      "0 6.926112\n",
      "200 0.6005018\n",
      "400 0.4729582\n",
      "600 0.37342912\n",
      "800 0.2801835\n",
      "1000 0.23280513\n",
      "1200 0.21065336\n",
      "1400 0.192299\n",
      "1600 0.1768232\n",
      "1800 0.16359553\n",
      "2000 0.1521616\n",
      "--------------\n",
      "[[1.3890432e-03 9.9860197e-01 9.0612402e-06]] [1]\n",
      "--------------\n",
      "[[0.93119204 0.06290206 0.00590588]] [0]\n",
      "--------------\n",
      "[[1.2732767e-08 3.3411323e-04 9.9966586e-01]] [2]\n",
      "--------------\n",
      "[[1.3890432e-03 9.9860197e-01 9.0612402e-06]\n",
      " [9.3119204e-01 6.2902056e-02 5.9058843e-03]\n",
      " [1.2732767e-08 3.3411323e-04 9.9966586e-01]] [1 0 2]\n"
     ]
    },
    {
     "data": {
      "text/plain": [
       "'\\n0 6.926112\\n200 0.6005015\\n400 0.47295815\\n600 0.37342924\\n800 0.28018373\\n1000 0.23280522\\n1200 0.21065344\\n1400 0.19229904\\n1600 0.17682323\\n1800 0.16359556\\n2000 0.15216158\\n-------------\\n[[1.3890490e-03 9.9860185e-01 9.0613084e-06]] [1]\\n-------------\\n[[0.9311919  0.06290216 0.00590591]] [0]\\n-------------\\n[[1.2732815e-08 3.3411323e-04 9.9966586e-01]] [2]\\n-------------\\n[[1.3890490e-03 9.9860185e-01 9.0613084e-06]\\n [9.3119192e-01 6.2902197e-02 5.9059085e-03]\\n [1.2732815e-08 3.3411323e-04 9.9966586e-01]] [1 0 2]\\n'"
      ]
     },
     "execution_count": 1,
     "metadata": {},
     "output_type": "execute_result"
    }
   ],
   "source": [
    "# Lab 6 Softmax Classifier\n",
    "import tensorflow as tf\n",
    "tf.set_random_seed(777)  # for reproducibility\n",
    "\n",
    "x_data = [[1, 2, 1, 1],\n",
    "          [2, 1, 3, 2],\n",
    "          [3, 1, 3, 4],\n",
    "          [4, 1, 5, 5],\n",
    "          [1, 7, 5, 5],\n",
    "          [1, 2, 5, 6],\n",
    "          [1, 6, 6, 6],\n",
    "          [1, 7, 7, 7]]\n",
    "y_data = [[0, 0, 1],\n",
    "          [0, 0, 1],\n",
    "          [0, 0, 1],\n",
    "          [0, 1, 0],\n",
    "          [0, 1, 0],\n",
    "          [0, 1, 0],\n",
    "          [1, 0, 0],\n",
    "          [1, 0, 0]] # one-hot encoding # 하나만 hot하다\n",
    "\n",
    "X = tf.placeholder(\"float\", [None, 4]) # shape에 주의 # 4개의 feature\n",
    "Y = tf.placeholder(\"float\", [None, 3]) # shape에 주의 # 3개의 label\n",
    "nb_classes = 3\n",
    "\n",
    "W = tf.Variable(tf.random_normal([4, nb_classes]), name='weight') # 코딩 용이 \n",
    "b = tf.Variable(tf.random_normal([nb_classes]), name='bias') # 코딩 용이\n",
    "\n",
    "# tf.nn.softmax computes softmax activations\n",
    "# softmax = exp(logits) / reduce_sum(exp(logits), dim)\n",
    "hypothesis = tf.nn.softmax(tf.matmul(X, W) + b) \n",
    "\n",
    "# Cross entropy cost/loss\n",
    "cost = tf.reduce_mean(-tf.reduce_sum(Y * tf.log(hypothesis), axis=1))\n",
    "\n",
    "optimizer = tf.train.GradientDescentOptimizer(learning_rate=0.1).minimize(cost)\n",
    "\n",
    "# Launch graph\n",
    "with tf.Session() as sess:\n",
    "    sess.run(tf.global_variables_initializer())\n",
    "\n",
    "    for step in range(2001):\n",
    "            _, cost_val = sess.run([optimizer, cost], feed_dict={X: x_data, Y: y_data})\n",
    "\n",
    "            if step % 200 == 0:\n",
    "                print(step, cost_val)\n",
    "\n",
    "    print('--------------')\n",
    "    # Testing & One-hot encoding\n",
    "    a = sess.run(hypothesis, feed_dict={X: [[1, 11, 7, 9]]})\n",
    "    print(a, sess.run(tf.argmax(a, 1)))\n",
    "\n",
    "    print('--------------')\n",
    "    b = sess.run(hypothesis, feed_dict={X: [[1, 3, 4, 3]]})\n",
    "    print(b, sess.run(tf.argmax(b, 1)))\n",
    "\n",
    "    print('--------------')\n",
    "    c = sess.run(hypothesis, feed_dict={X: [[1, 1, 0, 1]]})\n",
    "    print(c, sess.run(tf.argmax(c, 1)))\n",
    "\n",
    "    print('--------------') # all 에 대한 질문에 대한 답\n",
    "    all = sess.run(hypothesis, feed_dict={X: [[1, 11, 7, 9], [1, 3, 4, 3], [1, 1, 0, 1]]})\n",
    "    print(all, sess.run(tf.argmax(all, 1)))\n",
    "\n",
    "'''\n",
    "0 6.926112\n",
    "200 0.6005015\n",
    "400 0.47295815\n",
    "600 0.37342924\n",
    "800 0.28018373\n",
    "1000 0.23280522\n",
    "1200 0.21065344\n",
    "1400 0.19229904\n",
    "1600 0.17682323\n",
    "1800 0.16359556\n",
    "2000 0.15216158\n",
    "-------------\n",
    "[[1.3890490e-03 9.9860185e-01 9.0613084e-06]] [1]\n",
    "-------------\n",
    "[[0.9311919  0.06290216 0.00590591]] [0]\n",
    "-------------\n",
    "[[1.2732815e-08 3.3411323e-04 9.9966586e-01]] [2]\n",
    "-------------\n",
    "[[1.3890490e-03 9.9860185e-01 9.0613084e-06]\n",
    " [9.3119192e-01 6.2902197e-02 5.9059085e-03]\n",
    " [1.2732815e-08 3.3411323e-04 9.9966586e-01]] [1 0 2]\n",
    "'''\n"
   ]
  },
  {
   "cell_type": "code",
   "execution_count": null,
   "metadata": {},
   "outputs": [],
   "source": []
  }
 ],
 "metadata": {
  "kernelspec": {
   "display_name": "Python 3",
   "language": "python",
   "name": "python3"
  },
  "language_info": {
   "codemirror_mode": {
    "name": "ipython",
    "version": 3
   },
   "file_extension": ".py",
   "mimetype": "text/x-python",
   "name": "python",
   "nbconvert_exporter": "python",
   "pygments_lexer": "ipython3",
   "version": "3.6.4"
  },
  "toc": {
   "base_numbering": 1,
   "nav_menu": {},
   "number_sections": true,
   "sideBar": true,
   "skip_h1_title": false,
   "title_cell": "Table of Contents",
   "title_sidebar": "Contents",
   "toc_cell": false,
   "toc_position": {},
   "toc_section_display": true,
   "toc_window_display": false
  }
 },
 "nbformat": 4,
 "nbformat_minor": 2
}
